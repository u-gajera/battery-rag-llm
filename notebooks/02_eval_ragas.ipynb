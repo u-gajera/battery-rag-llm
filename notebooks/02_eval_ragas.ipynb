{
 "cells": [
  {
   "cell_type": "code",
   "execution_count": null,
   "id": "343c0f1f",
   "metadata": {
    "vscode": {
     "languageId": "plaintext"
    }
   },
   "outputs": [],
   "source": [
    "# notebooks/02_evaluate_ragas.ipynb  (pseudocode)\n",
    "from ragas.metrics import (\n",
    "    answer_correctness, faithfulness, context_precision,\n",
    "    context_recall, answer_relevance\n",
    ")\n",
    "from ragas import evaluate\n",
    "import json, faiss, numpy as np\n"
   ]
  },
  {
   "cell_type": "code",
   "execution_count": null,
   "id": "657a5801",
   "metadata": {
    "vscode": {
     "languageId": "plaintext"
    }
   },
   "outputs": [],
   "source": [
    "# 1) load eval set\n",
    "eval_recs = [json.loads(l) for l in open(\"data/qa/eval.jsonl\")]"
   ]
  },
  {
   "cell_type": "code",
   "execution_count": null,
   "id": "2dac5308",
   "metadata": {
    "vscode": {
     "languageId": "plaintext"
    }
   },
   "outputs": [],
   "source": [
    "\n",
    "# 2) build FAISS index from embeddings/*.npy  (flat L2 for demo)\n",
    "vecs, ids = [], []\n",
    "for fn in glob(\"data/processed/embeddings/*.npy\"):\n",
    "    arr = np.load(fn); vecs.append(arr)\n",
    "    base = Path(fn).stem\n",
    "    ids.extend([f\"{base}_idx{i}\" for i in range(arr.shape[0])])\n",
    "index = faiss.IndexFlatIP(vecs[0].shape[1])\n",
    "index.add(np.vstack(vecs))\n"
   ]
  },
  {
   "cell_type": "code",
   "execution_count": null,
   "id": "c8dc1263",
   "metadata": {
    "vscode": {
     "languageId": "plaintext"
    }
   },
   "outputs": [],
   "source": [
    "\n",
    "# 3) retrieval + generation loop → RAGAS\n",
    "rag_data = []\n",
    "for rec in eval_recs:\n",
    "    q_vec = retriever.encode(rec[\"question\"])\n",
    "    D,I = index.search(q_vec, k=5)\n",
    "    retrieved = [ids[i] for i in I[0]]\n",
    "\n",
    "    prompt = assemble_prompt(retrieved, rec[\"question\"])\n",
    "    answer = generator.generate(prompt)\n",
    "\n",
    "    rag_data.append({\"question\": rec[\"question\"],\n",
    "                     \"answer\": answer,\n",
    "                     \"contexts\": retrieved,\n",
    "                     \"ground_truth\": rec[\"answer\"]})\n",
    "\n"
   ]
  },
  {
   "cell_type": "code",
   "execution_count": null,
   "id": "0032f0c7",
   "metadata": {
    "vscode": {
     "languageId": "plaintext"
    }
   },
   "outputs": [],
   "source": [
    "report = evaluate(rag_data,\n",
    "                  metrics=[answer_correctness, faithfulness,\n",
    "                           context_precision, context_recall,\n",
    "                           answer_relevance])\n",
    "print(report.to_pandas())"
   ]
  }
 ],
 "metadata": {
  "language_info": {
   "name": "python"
  }
 },
 "nbformat": 4,
 "nbformat_minor": 5
}
